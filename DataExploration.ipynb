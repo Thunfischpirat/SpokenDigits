{
 "cells": [
  {
   "cell_type": "markdown",
   "source": [
    "## Exploring the Dataset\n",
    "\n",
    "The speech samples are already divied into training, development, and test spilts. The splits are made in such way that evaluation speakers are not present in training split. You should use the splits as they are."
   ],
   "metadata": {
    "collapsed": false
   }
  },
  {
   "cell_type": "code",
   "execution_count": 1,
   "outputs": [],
   "source": [
    "import pandas as pd"
   ],
   "metadata": {
    "collapsed": false
   }
  },
  {
   "cell_type": "code",
   "execution_count": 2,
   "outputs": [],
   "source": [
    "# read tsv file into a dataframe\n",
    "sdr_df = pd.read_csv('SDR_metadata.tsv', sep='\\t', header=0, index_col='Unnamed: 0')"
   ],
   "metadata": {
    "collapsed": false
   }
  },
  {
   "cell_type": "code",
   "execution_count": 3,
   "outputs": [
    {
     "data": {
      "text/plain": "      identifier   speaker  split  label                           file\n0      5_theo_23      theo  TRAIN      5      speech_data/5_theo_23.wav\n1  2_yweweler_39  yweweler   TEST      2  speech_data/2_yweweler_39.wav\n2  6_yweweler_34  yweweler    DEV      6  speech_data/6_yweweler_34.wav\n3  6_yweweler_16  yweweler    DEV      6  speech_data/6_yweweler_16.wav\n4   9_yweweler_2  yweweler   TEST      9   speech_data/9_yweweler_2.wav",
      "text/html": "<div>\n<style scoped>\n    .dataframe tbody tr th:only-of-type {\n        vertical-align: middle;\n    }\n\n    .dataframe tbody tr th {\n        vertical-align: top;\n    }\n\n    .dataframe thead th {\n        text-align: right;\n    }\n</style>\n<table border=\"1\" class=\"dataframe\">\n  <thead>\n    <tr style=\"text-align: right;\">\n      <th></th>\n      <th>identifier</th>\n      <th>speaker</th>\n      <th>split</th>\n      <th>label</th>\n      <th>file</th>\n    </tr>\n  </thead>\n  <tbody>\n    <tr>\n      <th>0</th>\n      <td>5_theo_23</td>\n      <td>theo</td>\n      <td>TRAIN</td>\n      <td>5</td>\n      <td>speech_data/5_theo_23.wav</td>\n    </tr>\n    <tr>\n      <th>1</th>\n      <td>2_yweweler_39</td>\n      <td>yweweler</td>\n      <td>TEST</td>\n      <td>2</td>\n      <td>speech_data/2_yweweler_39.wav</td>\n    </tr>\n    <tr>\n      <th>2</th>\n      <td>6_yweweler_34</td>\n      <td>yweweler</td>\n      <td>DEV</td>\n      <td>6</td>\n      <td>speech_data/6_yweweler_34.wav</td>\n    </tr>\n    <tr>\n      <th>3</th>\n      <td>6_yweweler_16</td>\n      <td>yweweler</td>\n      <td>DEV</td>\n      <td>6</td>\n      <td>speech_data/6_yweweler_16.wav</td>\n    </tr>\n    <tr>\n      <th>4</th>\n      <td>9_yweweler_2</td>\n      <td>yweweler</td>\n      <td>TEST</td>\n      <td>9</td>\n      <td>speech_data/9_yweweler_2.wav</td>\n    </tr>\n  </tbody>\n</table>\n</div>"
     },
     "execution_count": 3,
     "metadata": {},
     "output_type": "execute_result"
    }
   ],
   "source": [
    "sdr_df.head()"
   ],
   "metadata": {
    "collapsed": false
   }
  },
  {
   "cell_type": "code",
   "execution_count": 13,
   "outputs": [
    {
     "data": {
      "text/plain": "       0.0  1.0  2.0  3.0  4.0  5.0  6.0  7.0  8.0  9.0  TOTAL\nDEV     47   45   46   54   54   50   54   53   44   50    497\nTRAIN  200  200  200  200  200  200  200  200  200  200   2000\nTEST    53   55   54   46   46   50   46   47   56   50    503\nTOTAL  300  300  300  300  300  300  300  300  300  300   3000",
      "text/html": "<div>\n<style scoped>\n    .dataframe tbody tr th:only-of-type {\n        vertical-align: middle;\n    }\n\n    .dataframe tbody tr th {\n        vertical-align: top;\n    }\n\n    .dataframe thead th {\n        text-align: right;\n    }\n</style>\n<table border=\"1\" class=\"dataframe\">\n  <thead>\n    <tr style=\"text-align: right;\">\n      <th></th>\n      <th>0.0</th>\n      <th>1.0</th>\n      <th>2.0</th>\n      <th>3.0</th>\n      <th>4.0</th>\n      <th>5.0</th>\n      <th>6.0</th>\n      <th>7.0</th>\n      <th>8.0</th>\n      <th>9.0</th>\n      <th>TOTAL</th>\n    </tr>\n  </thead>\n  <tbody>\n    <tr>\n      <th>DEV</th>\n      <td>47</td>\n      <td>45</td>\n      <td>46</td>\n      <td>54</td>\n      <td>54</td>\n      <td>50</td>\n      <td>54</td>\n      <td>53</td>\n      <td>44</td>\n      <td>50</td>\n      <td>497</td>\n    </tr>\n    <tr>\n      <th>TRAIN</th>\n      <td>200</td>\n      <td>200</td>\n      <td>200</td>\n      <td>200</td>\n      <td>200</td>\n      <td>200</td>\n      <td>200</td>\n      <td>200</td>\n      <td>200</td>\n      <td>200</td>\n      <td>2000</td>\n    </tr>\n    <tr>\n      <th>TEST</th>\n      <td>53</td>\n      <td>55</td>\n      <td>54</td>\n      <td>46</td>\n      <td>46</td>\n      <td>50</td>\n      <td>46</td>\n      <td>47</td>\n      <td>56</td>\n      <td>50</td>\n      <td>503</td>\n    </tr>\n    <tr>\n      <th>TOTAL</th>\n      <td>300</td>\n      <td>300</td>\n      <td>300</td>\n      <td>300</td>\n      <td>300</td>\n      <td>300</td>\n      <td>300</td>\n      <td>300</td>\n      <td>300</td>\n      <td>300</td>\n      <td>3000</td>\n    </tr>\n  </tbody>\n</table>\n</div>"
     },
     "execution_count": 13,
     "metadata": {},
     "output_type": "execute_result"
    }
   ],
   "source": [
    "# Count labels in each set.\n",
    "dev_label_counts = sdr_df.where(sdr_df.split == \"DEV\").label.value_counts()\n",
    "train_label_counts = sdr_df.where(sdr_df.split == \"TRAIN\").label.value_counts()\n",
    "test_label_counts = sdr_df.where(sdr_df.split == \"TEST\").label.value_counts()\n",
    "# Make a dataframe with the counts that sorts columns by their numerical value\n",
    "label_counts = (pd.DataFrame([dev_label_counts, train_label_counts, test_label_counts], index=[\"DEV\", \"TRAIN\", \"TEST\"])\n",
    "                .sort_index(axis=1)\n",
    "                .astype(int))\n",
    "# Add a column with the total and a row with the total\n",
    "label_counts[\"TOTAL\"] = label_counts.sum(axis=1)\n",
    "label_counts.loc[\"TOTAL\"] = label_counts.sum(axis=0)\n",
    "\n",
    "label_counts"
   ],
   "metadata": {
    "collapsed": false
   }
  },
  {
   "cell_type": "markdown",
   "source": [],
   "metadata": {
    "collapsed": false
   }
  },
  {
   "cell_type": "code",
   "execution_count": null,
   "outputs": [],
   "source": [],
   "metadata": {
    "collapsed": false
   }
  }
 ],
 "metadata": {
  "kernelspec": {
   "display_name": "Python 3",
   "language": "python",
   "name": "python3"
  },
  "language_info": {
   "codemirror_mode": {
    "name": "ipython",
    "version": 2
   },
   "file_extension": ".py",
   "mimetype": "text/x-python",
   "name": "python",
   "nbconvert_exporter": "python",
   "pygments_lexer": "ipython2",
   "version": "2.7.6"
  }
 },
 "nbformat": 4,
 "nbformat_minor": 0
}
